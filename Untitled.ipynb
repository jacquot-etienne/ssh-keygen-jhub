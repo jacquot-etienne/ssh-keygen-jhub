{
 "cells": [
  {
   "cell_type": "markdown",
   "id": "3412b962-4d58-4064-8bdd-7be139909a5b",
   "metadata": {},
   "source": [
    "## adding sample notebook for REMOTE SSH, after adding key"
   ]
  },
  {
   "cell_type": "code",
   "execution_count": 3,
   "id": "f3cc0ebb-9e22-44b9-abc5-52fde5de7c8e",
   "metadata": {},
   "outputs": [
    {
     "data": {
      "text/plain": [
       "3"
      ]
     },
     "execution_count": 3,
     "metadata": {},
     "output_type": "execute_result"
    }
   ],
   "source": [
    "1+2"
   ]
  },
  {
   "cell_type": "code",
   "execution_count": 4,
   "id": "920e3193-bd8a-44b3-9f0c-d11262203e8e",
   "metadata": {},
   "outputs": [],
   "source": [
    "!git config --global user.name \"Etienne Jacquot\""
   ]
  },
  {
   "cell_type": "code",
   "execution_count": 6,
   "id": "f90b0e5c-3359-410f-bac2-9cee19db5e38",
   "metadata": {},
   "outputs": [],
   "source": [
    "!git config --global user.email \"jacquot.etienne@gmail.com\""
   ]
  },
  {
   "cell_type": "code",
   "execution_count": null,
   "id": "ce30b5d1-5f83-4637-9199-ce5f6963e3ab",
   "metadata": {},
   "outputs": [],
   "source": []
  }
 ],
 "metadata": {
  "kernelspec": {
   "display_name": "Python 3 (COMM318)",
   "language": "python",
   "name": "python3"
  },
  "language_info": {
   "codemirror_mode": {
    "name": "ipython",
    "version": 3
   },
   "file_extension": ".py",
   "mimetype": "text/x-python",
   "name": "python",
   "nbconvert_exporter": "python",
   "pygments_lexer": "ipython3",
   "version": "3.8.8"
  }
 },
 "nbformat": 4,
 "nbformat_minor": 5
}
